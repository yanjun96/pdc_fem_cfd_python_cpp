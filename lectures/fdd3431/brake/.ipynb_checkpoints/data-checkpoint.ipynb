{
 "cells": [
  {
   "cell_type": "code",
   "execution_count": 3,
   "id": "f3bc7947-9162-453b-9ee1-dd6e620b0988",
   "metadata": {},
   "outputs": [],
   "source": [
    "import pdfplumber\n",
    "import pandas as pd\n",
    "import sys\n",
    "/Users/yanjun/Documents/courses/lectures/fdd3431/brake\n",
    "sys.path.append(\"/Users/yanjun/Documents/courses/lectures/fdd3431/brake/data/\")\n",
    "\n",
    "csv_files = collect_csv_files(source_dir)\n",
    "type1 = 'contact_area'\n",
    "csv_files.sort(key=lambda x: extract_file_labels(x,type1))\n",
    "\n",
    "\n",
    "\n",
    "data = []\n",
    "with pdfplumber.open(\"1.pdf\") as pdf:\n",
    "    for page in pdf.pages:\n",
    "        table = page.extract_table()\n",
    "        if table:\n",
    "            data.extend(table)\n",
    "\n",
    "df = pd.DataFrame(data)\n",
    "df.to_csv(\"1.csv\", index = False)\n"
   ]
  }
 ],
 "metadata": {
  "kernelspec": {
   "display_name": "Python 3 (ipykernel)",
   "language": "python",
   "name": "python3"
  },
  "language_info": {
   "codemirror_mode": {
    "name": "ipython",
    "version": 3
   },
   "file_extension": ".py",
   "mimetype": "text/x-python",
   "name": "python",
   "nbconvert_exporter": "python",
   "pygments_lexer": "ipython3",
   "version": "3.13.1"
  }
 },
 "nbformat": 4,
 "nbformat_minor": 5
}
