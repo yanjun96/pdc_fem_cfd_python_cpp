{
 "cells": [
  {
   "cell_type": "code",
   "execution_count": 1,
   "id": "bd71ea22-8989-4bdd-b0ec-8f6f92983799",
   "metadata": {},
   "outputs": [
    {
     "ename": "KeyboardInterrupt",
     "evalue": "",
     "output_type": "error",
     "traceback": [
      "\u001b[0;31m---------------------------------------------------------------------------\u001b[0m",
      "\u001b[0;31mKeyboardInterrupt\u001b[0m                         Traceback (most recent call last)",
      "Cell \u001b[0;32mIn[1], line 14\u001b[0m\n\u001b[1;32m     12\u001b[0m \u001b[38;5;28;01mwith\u001b[39;00m pdfplumber\u001b[38;5;241m.\u001b[39mopen(file) \u001b[38;5;28;01mas\u001b[39;00m pdf:\n\u001b[1;32m     13\u001b[0m   \u001b[38;5;28;01mfor\u001b[39;00m page \u001b[38;5;129;01min\u001b[39;00m pdf\u001b[38;5;241m.\u001b[39mpages:\n\u001b[0;32m---> 14\u001b[0m       table \u001b[38;5;241m=\u001b[39m \u001b[43mpage\u001b[49m\u001b[38;5;241;43m.\u001b[39;49m\u001b[43mextract_table\u001b[49m\u001b[43m(\u001b[49m\u001b[43m)\u001b[49m\n\u001b[1;32m     15\u001b[0m       \u001b[38;5;28;01mif\u001b[39;00m table:\n\u001b[1;32m     16\u001b[0m           data\u001b[38;5;241m.\u001b[39mextend(table)\n",
      "File \u001b[0;32m~/Documents/apps/miniconda3/envs/dd2421/lib/python3.13/site-packages/pdfplumber/page.py:514\u001b[0m, in \u001b[0;36mPage.extract_table\u001b[0;34m(self, table_settings)\u001b[0m\n\u001b[1;32m    512\u001b[0m     \u001b[38;5;28;01mreturn\u001b[39;00m \u001b[38;5;28;01mNone\u001b[39;00m\n\u001b[1;32m    513\u001b[0m \u001b[38;5;28;01melse\u001b[39;00m:\n\u001b[0;32m--> 514\u001b[0m     \u001b[38;5;28;01mreturn\u001b[39;00m \u001b[43mtable\u001b[49m\u001b[38;5;241;43m.\u001b[39;49m\u001b[43mextract\u001b[49m\u001b[43m(\u001b[49m\u001b[38;5;241;43m*\u001b[39;49m\u001b[38;5;241;43m*\u001b[39;49m\u001b[43m(\u001b[49m\u001b[43mtset\u001b[49m\u001b[38;5;241;43m.\u001b[39;49m\u001b[43mtext_settings\u001b[49m\u001b[43m \u001b[49m\u001b[38;5;129;43;01mor\u001b[39;49;00m\u001b[43m \u001b[49m\u001b[43m{\u001b[49m\u001b[43m}\u001b[49m\u001b[43m)\u001b[49m\u001b[43m)\u001b[49m\n",
      "File \u001b[0;32m~/Documents/apps/miniconda3/envs/dd2421/lib/python3.13/site-packages/pdfplumber/table.py:451\u001b[0m, in \u001b[0;36mTable.extract\u001b[0;34m(self, **kwargs)\u001b[0m\n\u001b[1;32m    449\u001b[0m         kwargs[\u001b[38;5;124m\"\u001b[39m\u001b[38;5;124mlayout_height\u001b[39m\u001b[38;5;124m\"\u001b[39m] \u001b[38;5;241m=\u001b[39m cell[\u001b[38;5;241m3\u001b[39m] \u001b[38;5;241m-\u001b[39m cell[\u001b[38;5;241m1\u001b[39m]\n\u001b[1;32m    450\u001b[0m         kwargs[\u001b[38;5;124m\"\u001b[39m\u001b[38;5;124mlayout_bbox\u001b[39m\u001b[38;5;124m\"\u001b[39m] \u001b[38;5;241m=\u001b[39m cell\n\u001b[0;32m--> 451\u001b[0m     cell_text \u001b[38;5;241m=\u001b[39m \u001b[43mutils\u001b[49m\u001b[38;5;241;43m.\u001b[39;49m\u001b[43mextract_text\u001b[49m\u001b[43m(\u001b[49m\u001b[43mcell_chars\u001b[49m\u001b[43m,\u001b[49m\u001b[43m \u001b[49m\u001b[38;5;241;43m*\u001b[39;49m\u001b[38;5;241;43m*\u001b[39;49m\u001b[43mkwargs\u001b[49m\u001b[43m)\u001b[49m\n\u001b[1;32m    452\u001b[0m \u001b[38;5;28;01melse\u001b[39;00m:\n\u001b[1;32m    453\u001b[0m     cell_text \u001b[38;5;241m=\u001b[39m \u001b[38;5;124m\"\u001b[39m\u001b[38;5;124m\"\u001b[39m\n",
      "File \u001b[0;32m~/Documents/apps/miniconda3/envs/dd2421/lib/python3.13/site-packages/pdfplumber/utils/text.py:743\u001b[0m, in \u001b[0;36mextract_text\u001b[0;34m(chars, line_dir_render, char_dir_render, **kwargs)\u001b[0m\n\u001b[1;32m    739\u001b[0m \u001b[38;5;28;01melse\u001b[39;00m:\n\u001b[1;32m    740\u001b[0m     extractor \u001b[38;5;241m=\u001b[39m WordExtractor(\n\u001b[1;32m    741\u001b[0m         \u001b[38;5;241m*\u001b[39m\u001b[38;5;241m*\u001b[39m{k: kwargs[k] \u001b[38;5;28;01mfor\u001b[39;00m k \u001b[38;5;129;01min\u001b[39;00m WORD_EXTRACTOR_KWARGS \u001b[38;5;28;01mif\u001b[39;00m k \u001b[38;5;129;01min\u001b[39;00m kwargs}\n\u001b[1;32m    742\u001b[0m     )\n\u001b[0;32m--> 743\u001b[0m     words \u001b[38;5;241m=\u001b[39m \u001b[43mextractor\u001b[49m\u001b[38;5;241;43m.\u001b[39;49m\u001b[43mextract_words\u001b[49m\u001b[43m(\u001b[49m\u001b[43mchars\u001b[49m\u001b[43m)\u001b[49m\n\u001b[1;32m    745\u001b[0m     line_dir_render \u001b[38;5;241m=\u001b[39m line_dir_render \u001b[38;5;129;01mor\u001b[39;00m extractor\u001b[38;5;241m.\u001b[39mline_dir\n\u001b[1;32m    746\u001b[0m     char_dir_render \u001b[38;5;241m=\u001b[39m char_dir_render \u001b[38;5;129;01mor\u001b[39;00m extractor\u001b[38;5;241m.\u001b[39mchar_dir\n",
      "File \u001b[0;32m~/Documents/apps/miniconda3/envs/dd2421/lib/python3.13/site-packages/pdfplumber/utils/text.py:692\u001b[0m, in \u001b[0;36mWordExtractor.extract_words\u001b[0;34m(self, chars, return_chars)\u001b[0m\n\u001b[1;32m    687\u001b[0m     \u001b[38;5;28;01mreturn\u001b[39;00m \u001b[38;5;28mlist\u001b[39m(\n\u001b[1;32m    688\u001b[0m         {\u001b[38;5;241m*\u001b[39m\u001b[38;5;241m*\u001b[39mword, \u001b[38;5;124m\"\u001b[39m\u001b[38;5;124mchars\u001b[39m\u001b[38;5;124m\"\u001b[39m: word_chars}\n\u001b[1;32m    689\u001b[0m         \u001b[38;5;28;01mfor\u001b[39;00m word, word_chars \u001b[38;5;129;01min\u001b[39;00m \u001b[38;5;28mself\u001b[39m\u001b[38;5;241m.\u001b[39miter_extract_tuples(chars)\n\u001b[1;32m    690\u001b[0m     )\n\u001b[1;32m    691\u001b[0m \u001b[38;5;28;01melse\u001b[39;00m:\n\u001b[0;32m--> 692\u001b[0m     \u001b[38;5;28;01mreturn\u001b[39;00m \u001b[38;5;28;43mlist\u001b[39;49m\u001b[43m(\u001b[49m\u001b[43mword\u001b[49m\u001b[43m \u001b[49m\u001b[38;5;28;43;01mfor\u001b[39;49;00m\u001b[43m \u001b[49m\u001b[43mword\u001b[49m\u001b[43m,\u001b[49m\u001b[43m \u001b[49m\u001b[43mword_chars\u001b[49m\u001b[43m \u001b[49m\u001b[38;5;129;43;01min\u001b[39;49;00m\u001b[43m \u001b[49m\u001b[38;5;28;43mself\u001b[39;49m\u001b[38;5;241;43m.\u001b[39;49m\u001b[43miter_extract_tuples\u001b[49m\u001b[43m(\u001b[49m\u001b[43mchars\u001b[49m\u001b[43m)\u001b[49m\u001b[43m)\u001b[49m\n",
      "File \u001b[0;32m~/Documents/apps/miniconda3/envs/dd2421/lib/python3.13/site-packages/pdfplumber/utils/text.py:692\u001b[0m, in \u001b[0;36m<genexpr>\u001b[0;34m(.0)\u001b[0m\n\u001b[1;32m    687\u001b[0m     \u001b[38;5;28;01mreturn\u001b[39;00m \u001b[38;5;28mlist\u001b[39m(\n\u001b[1;32m    688\u001b[0m         {\u001b[38;5;241m*\u001b[39m\u001b[38;5;241m*\u001b[39mword, \u001b[38;5;124m\"\u001b[39m\u001b[38;5;124mchars\u001b[39m\u001b[38;5;124m\"\u001b[39m: word_chars}\n\u001b[1;32m    689\u001b[0m         \u001b[38;5;28;01mfor\u001b[39;00m word, word_chars \u001b[38;5;129;01min\u001b[39;00m \u001b[38;5;28mself\u001b[39m\u001b[38;5;241m.\u001b[39miter_extract_tuples(chars)\n\u001b[1;32m    690\u001b[0m     )\n\u001b[1;32m    691\u001b[0m \u001b[38;5;28;01melse\u001b[39;00m:\n\u001b[0;32m--> 692\u001b[0m     \u001b[38;5;28;01mreturn\u001b[39;00m \u001b[38;5;28mlist\u001b[39m(word \u001b[38;5;28;01mfor\u001b[39;00m word, word_chars \u001b[38;5;129;01min\u001b[39;00m \u001b[38;5;28mself\u001b[39m\u001b[38;5;241m.\u001b[39miter_extract_tuples(chars))\n",
      "File \u001b[0;32m~/Documents/apps/miniconda3/envs/dd2421/lib/python3.13/site-packages/pdfplumber/utils/text.py:668\u001b[0m, in \u001b[0;36mWordExtractor.iter_extract_tuples\u001b[0;34m(self, chars)\u001b[0m\n\u001b[1;32m    664\u001b[0m \u001b[38;5;28;01mdef\u001b[39;00m\u001b[38;5;250m \u001b[39m\u001b[38;5;21miter_extract_tuples\u001b[39m(\n\u001b[1;32m    665\u001b[0m     \u001b[38;5;28mself\u001b[39m, chars: T_obj_iter\n\u001b[1;32m    666\u001b[0m ) \u001b[38;5;241m-\u001b[39m\u001b[38;5;241m>\u001b[39m Generator[Tuple[T_obj, T_obj_list], \u001b[38;5;28;01mNone\u001b[39;00m, \u001b[38;5;28;01mNone\u001b[39;00m]:\n\u001b[1;32m    667\u001b[0m     grouping_key \u001b[38;5;241m=\u001b[39m itemgetter(\u001b[38;5;124m\"\u001b[39m\u001b[38;5;124mupright\u001b[39m\u001b[38;5;124m\"\u001b[39m, \u001b[38;5;241m*\u001b[39m\u001b[38;5;28mself\u001b[39m\u001b[38;5;241m.\u001b[39mextra_attrs)\n\u001b[0;32m--> 668\u001b[0m     grouped_chars \u001b[38;5;241m=\u001b[39m \u001b[43mitertools\u001b[49m\u001b[38;5;241;43m.\u001b[39;49m\u001b[43mgroupby\u001b[49m\u001b[43m(\u001b[49m\u001b[43mchars\u001b[49m\u001b[43m,\u001b[49m\u001b[43m \u001b[49m\u001b[43mgrouping_key\u001b[49m\u001b[43m)\u001b[49m\n\u001b[1;32m    670\u001b[0m     \u001b[38;5;28;01mfor\u001b[39;00m keyvals, char_group \u001b[38;5;129;01min\u001b[39;00m grouped_chars:\n\u001b[1;32m    671\u001b[0m         line_groups \u001b[38;5;241m=\u001b[39m (\n\u001b[1;32m    672\u001b[0m             [(char_group, \u001b[38;5;28mself\u001b[39m\u001b[38;5;241m.\u001b[39mchar_dir)]\n\u001b[1;32m    673\u001b[0m             \u001b[38;5;28;01mif\u001b[39;00m \u001b[38;5;28mself\u001b[39m\u001b[38;5;241m.\u001b[39muse_text_flow\n\u001b[1;32m    674\u001b[0m             \u001b[38;5;28;01melse\u001b[39;00m \u001b[38;5;28mself\u001b[39m\u001b[38;5;241m.\u001b[39miter_chars_to_lines(char_group)\n\u001b[1;32m    675\u001b[0m         )\n",
      "\u001b[0;31mKeyboardInterrupt\u001b[0m: "
     ]
    }
   ],
   "source": [
    "import os\n",
    "import pdfplumber\n",
    "import pandas as pd\n",
    "\n",
    "source_dir = \"/Users/yanjun/Documents/courses/lectures/fdd3431/brake/data/csv/\"\n",
    "pdf_files = [f for f in os.listdir(source_dir) if f.endswith(\".pdf\") ]\n",
    "\n",
    "data = []\n",
    "n=0\n",
    "for file in pdf_files:\n",
    "   data = []\n",
    "   with pdfplumber.open(file) as pdf:\n",
    "     for page in pdf.pages:\n",
    "         table = page.extract_table()\n",
    "         if table:\n",
    "             data.extend(table)\n",
    "   n = n+1\n",
    "   df = pd.DataFrame(data)\n",
    "   df.to_csv(f'{n}.csv', index = False)\n"
   ]
  },
  {
   "cell_type": "code",
   "execution_count": null,
   "id": "3686116f-9303-46af-a14d-16e8dc9671f0",
   "metadata": {},
   "outputs": [],
   "source": []
  }
 ],
 "metadata": {
  "kernelspec": {
   "display_name": "Python 3 (ipykernel)",
   "language": "python",
   "name": "python3"
  },
  "language_info": {
   "codemirror_mode": {
    "name": "ipython",
    "version": 3
   },
   "file_extension": ".py",
   "mimetype": "text/x-python",
   "name": "python",
   "nbconvert_exporter": "python",
   "pygments_lexer": "ipython3",
   "version": "3.13.1"
  }
 },
 "nbformat": 4,
 "nbformat_minor": 5
}
