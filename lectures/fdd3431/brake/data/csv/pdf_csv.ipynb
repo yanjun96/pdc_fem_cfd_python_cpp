{
 "cells": [
  {
   "cell_type": "code",
   "execution_count": 1,
   "id": "bd71ea22-8989-4bdd-b0ec-8f6f92983799",
   "metadata": {},
   "outputs": [],
   "source": [
    "import os\n",
    "import pdfplumber\n",
    "import pandas as pd\n",
    "\n",
    "source_dir = \"/Users/yanjun/Documents/courses/lectures/fdd3431/brake/data/csv/\"\n",
    "pdf_files = [f for f in os.listdir(source_dir) if f.endswith(\".pdf\") ]\n",
    "\n",
    "data = []\n",
    "n=0\n",
    "for file in pdf_files:\n",
    "   data = []\n",
    "   with pdfplumber.open(file) as pdf:\n",
    "     for page in pdf.pages:\n",
    "         table = page.extract_table()\n",
    "         if table:\n",
    "             data.extend(table)\n",
    "   n = n+1\n",
    "   df = pd.DataFrame(data)\n",
    "   df.to_csv(f'{n}.csv', index = False)\n"
   ]
  },
  {
   "cell_type": "code",
   "execution_count": null,
   "id": "3686116f-9303-46af-a14d-16e8dc9671f0",
   "metadata": {},
   "outputs": [],
   "source": []
  }
 ],
 "metadata": {
  "kernelspec": {
   "display_name": "Python 3 (ipykernel)",
   "language": "python",
   "name": "python3"
  },
  "language_info": {
   "codemirror_mode": {
    "name": "ipython",
    "version": 3
   },
   "file_extension": ".py",
   "mimetype": "text/x-python",
   "name": "python",
   "nbconvert_exporter": "python",
   "pygments_lexer": "ipython3",
   "version": "3.13.1"
  }
 },
 "nbformat": 4,
 "nbformat_minor": 5
}
