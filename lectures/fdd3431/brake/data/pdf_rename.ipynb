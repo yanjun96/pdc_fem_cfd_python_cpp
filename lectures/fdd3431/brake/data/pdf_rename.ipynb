{
 "cells": [
  {
   "cell_type": "code",
   "execution_count": 1,
   "id": "f3bc7947-9162-453b-9ee1-dd6e620b0988",
   "metadata": {},
   "outputs": [],
   "source": [
    "import pdfplumber\n",
    "import pandas as pd\n",
    "import sys\n",
    "import os\n",
    "import re\n",
    "\n",
    "#sys.path.append(\"/Users/yanjun/Documents/courses/lectures/fdd3431/brake/data/\")\n",
    "old_dir = \"./data\"\n",
    "new_dir = \"./data/csv\"\n",
    "\n",
    "source_dir = \"/Users/yanjun/Documents/courses/lectures/fdd3431/brake/data/\"\n",
    "pdf_files = [f for f in os.listdir(source_dir) if f.endswith(\".pdf\") ]\n",
    "\n",
    "pattern = re.compile(r\"第(\\d+)闸.pdf\")\n",
    "\n",
    "for file in pdf_files:\n",
    "    match = pattern.match(file)\n",
    "    if match:\n",
    "        new_name = f\"{match.group(1)}.pdf\"\n",
    "        old_path = os.path.join(old_dir,file)\n",
    "        new_path = os.path.join(new_dir,new_name)\n",
    "\n",
    "        os.rename(old_path, new_path)\n"
   ]
  },
  {
   "cell_type": "code",
   "execution_count": 40,
   "id": "c2ba6ee1-9c85-4070-b315-e801a7f14598",
   "metadata": {},
   "outputs": [
    {
     "name": "stdout",
     "output_type": "stream",
     "text": [
      "0  Fb_set\\n[kN] v_set\\n[km/h]    μ_m Ta_max\\n[°C] Energy\\n[kJ]\n",
      "1          23.0            50  0.408           67          512\n",
      "2          23.0            80  0.383          101         1350\n",
      "3          23.0           120  0.374          157         3072\n",
      "4          23.0           160  0.376          209         5486\n",
      "5          23.0           200  0.381          260         8599\n",
      "6          23.0           250  0.383          348        13486\n",
      "7          14.0           120  0.379          131         3101\n",
      "8          14.0           160  0.402          178         5520\n",
      "9          14.0           200  0.416          232         8638\n",
      "10         14.0           250  0.426          319        13535\n",
      "11         32.0           120  0.362          150         3054\n",
      "12         32.0           160  0.367          216         5458\n",
      "13         32.0           200  0.372          267         8563\n",
      "14         32.0           250  0.364          355        13440\n",
      "15         32.0           120  0.365          150         3052\n",
      "16         32.0           160  0.371          217         5455\n",
      "17         32.0           200  0.372          265         8560\n",
      "18         32.0           250  0.367          352        13432\n",
      "19         23.0            50  0.397           75          520\n",
      "20         23.0            80  0.379           98         1349\n",
      "21         23.0           120  0.380          139         3074\n",
      "22         23.0           160  0.387          189         5489\n",
      "23         23.0           200  0.396          251         8601\n",
      "24         23.0           250  0.392          335        13485\n",
      "25         14.0           120  0.383          128         3100\n"
     ]
    }
   ],
   "source": [
    "import os\n",
    "import pdfplumber\n",
    "import pandas as pd\n",
    "\n",
    "pdf_files = \"c6_all_data.pdf\"\n",
    "\n",
    "\n",
    "data = []\n",
    "with pdfplumber.open(pdf_files) as pdf:\n",
    "  for page in pdf.pages:\n",
    "      table = page.extract_table()\n",
    "      if table:\n",
    "         data.extend(table)\n",
    "df = pd.DataFrame(data)\n",
    "\n",
    "# below 0 to 18 are some parameters can be deleted, like speed,\n",
    "# but 11 and 12 are Ta_max and T_max, guess Ta_max is the Arithmetic mean,\n",
    "# which many means the average value of two tests. Here we choose Ta_max temporarily.\n",
    "\n",
    "df = df.drop([0,4,5,6,7,8,9,10,13,15,16,17,18], axis = 1)\n",
    "df = df.drop([12], axis = 1)\n",
    "\n",
    "df.columns = df.iloc[0] \n",
    "df = df.drop([0], axis = 0)\n",
    "df.to_csv(f'all.csv', index = False)\n",
    "\n",
    "print(df)"
   ]
  },
  {
   "cell_type": "code",
   "execution_count": null,
   "id": "6f7df5c5-4171-44d2-aae4-10036932c070",
   "metadata": {},
   "outputs": [],
   "source": []
  }
 ],
 "metadata": {
  "kernelspec": {
   "display_name": "Python 3 (ipykernel)",
   "language": "python",
   "name": "python3"
  },
  "language_info": {
   "codemirror_mode": {
    "name": "ipython",
    "version": 3
   },
   "file_extension": ".py",
   "mimetype": "text/x-python",
   "name": "python",
   "nbconvert_exporter": "python",
   "pygments_lexer": "ipython3",
   "version": "3.13.1"
  }
 },
 "nbformat": 4,
 "nbformat_minor": 5
}
