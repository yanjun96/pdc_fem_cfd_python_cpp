{
 "cells": [
  {
   "cell_type": "code",
   "execution_count": 12,
   "id": "ed06daef-2a6a-4957-865c-48e5b61c394d",
   "metadata": {},
   "outputs": [],
   "source": [
    "import numpy as np\n",
    "import pandas as pd\n",
    "from labfuns import *\n"
   ]
  },
  {
   "cell_type": "code",
   "execution_count": 13,
   "id": "f3753f33-59f5-4ba1-88ab-10d7a3d4d680",
   "metadata": {
    "scrolled": true
   },
   "outputs": [
    {
     "name": "stdout",
     "output_type": "stream",
     "text": [
      "Trial: 0 Accuracy 83.3\n",
      "Trial: 10 Accuracy 82.7\n",
      "Trial: 20 Accuracy 82\n",
      "Trial: 30 Accuracy 81.3\n",
      "Trial: 40 Accuracy 82.7\n",
      "Trial: 50 Accuracy 83.1\n",
      "Trial: 60 Accuracy 82.3\n",
      "Trial: 70 Accuracy 83.2\n",
      "Trial: 80 Accuracy 82.5\n",
      "Trial: 90 Accuracy 83.3\n",
      "Final mean classification accuracy  82.4 with standard deviation 0.816\n"
     ]
    }
   ],
   "source": [
    "model_train = testClassifier(BayesClassifier(), dataset='challenge', split=0.7)"
   ]
  },
  {
   "cell_type": "code",
   "execution_count": 14,
   "id": "a5994c62-442b-4194-b636-e9515df49b07",
   "metadata": {},
   "outputs": [],
   "source": [
    "#testClassifier(BoostClassifier(BayesClassifier(), T=50), dataset='challenge',split=0.7)"
   ]
  },
  {
   "cell_type": "code",
   "execution_count": 15,
   "id": "ef357d1b-52cc-40ce-afa8-d77a0b616a7b",
   "metadata": {},
   "outputs": [],
   "source": [
    "#testClassifier(DecisionTreeClassifier(), dataset='challenge', split=0.7)"
   ]
  },
  {
   "cell_type": "code",
   "execution_count": 16,
   "id": "a38bda3e-a918-4297-ac31-7a6590f2fa7f",
   "metadata": {},
   "outputs": [],
   "source": [
    "#testClassifier(BoostClassifier(DecisionTreeClassifier(), T=40), dataset='challenge',split=0.7)"
   ]
  },
  {
   "cell_type": "code",
   "execution_count": 24,
   "id": "4d18947a-30a5-4d46-b642-3495a51f06e7",
   "metadata": {},
   "outputs": [
    {
     "name": "stdout",
     "output_type": "stream",
     "text": [
      "Mapping: {'Antrophic': np.int64(0), 'Mistral': np.int64(1), 'OpenAI': np.int64(2)}\n"
     ]
    }
   ],
   "source": [
    "import pandas as pd\n",
    "import numpy as np\n",
    "from sklearn.preprocessing import LabelEncoder\n",
    "\n",
    "df = pd.read_csv('TrainOnMe-1d3c80f1-d0b9-436e-9bcf-f50f94c66e0b.csv')\n",
    "y = df.iloc[:, 1].values  \n",
    "X = df.drop(df.columns[[0, 1,13]], axis=1)\n",
    "encoder = LabelEncoder()\n",
    "X.iloc[:, 6] = encoder.fit_transform(X.iloc[:, 6])\n",
    "#X.iloc[:, 11] = encoder.fit_transform(X.iloc[:, 11])\n",
    "X = X.values\n",
    "encoder1 = LabelEncoder()\n",
    "y1 = encoder1.fit_transform(y)\n",
    "#y = y.values\n",
    "print(\"Mapping:\", dict(zip(encoder1.classes_, encoder1.transform(encoder1.classes_))))\n",
    "\n",
    "pca = decomposition.PCA()\n",
    "pca.fit(X)\n",
    "X1 = pca.transform(X)\n",
    "labels1 = model_train.classify(X1)\n",
    "np.savetxt(\"X_train.txt\", labels1, fmt=\"%s\") \n",
    "\n",
    "\n",
    "np.savetxt(\"y_train.txt\", y1, fmt=\"%s\") "
   ]
  },
  {
   "cell_type": "markdown",
   "id": "e816c0f8-1b19-4a85-84b2-746c9ed2cd8d",
   "metadata": {},
   "source": [
    "# Evaluate"
   ]
  },
  {
   "cell_type": "code",
   "execution_count": 26,
   "id": "3e4b35b1-08b9-4982-bb04-8449e642d8a7",
   "metadata": {},
   "outputs": [
    {
     "name": "stdout",
     "output_type": "stream",
     "text": [
      "Mapping: {'Boom!': np.int64(0), 'Q1': np.int64(1), 'Q2': np.int64(2), 'Q3': np.int64(3), 'Q4': np.int64(4)}\n"
     ]
    }
   ],
   "source": [
    "import pandas as pd\n",
    "import numpy as np\n",
    "from sklearn.preprocessing import LabelEncoder\n",
    "\n",
    "df = pd.read_csv('EvaluateOnMe-b118d678-c584-46d5-9be1-fe07f8d38bab.csv') \n",
    "X = df.drop(df.columns[[0,13]], axis=1)\n",
    "encoder = LabelEncoder()\n",
    "X.iloc[:, 6] = encoder.fit_transform(X.iloc[:, 6])\n",
    "#X.iloc[:, 11] = encoder.fit_transform(X.iloc[:, 11])\n",
    "X = X.values\n",
    "print(\"Mapping:\", dict(zip(encoder.classes_, encoder.transform(encoder.classes_))))\n",
    "\n",
    "pca = decomposition.PCA()\n",
    "pca.fit(X)\n",
    "X = pca.transform(X)\n",
    "\n",
    "labels = model_train.classify(X)\n",
    "np.savetxt(\"Y_pre.txt\", labels, fmt=\"%s\") "
   ]
  },
  {
   "cell_type": "markdown",
   "id": "318a7da8-ced6-45de-a33d-35848486c960",
   "metadata": {},
   "source": [
    "# Percentage"
   ]
  },
  {
   "cell_type": "code",
   "execution_count": 25,
   "id": "a1cc91ea-dc58-436b-a9a3-84a77e73fff6",
   "metadata": {},
   "outputs": [
    {
     "name": "stdout",
     "output_type": "stream",
     "text": [
      "Accuracy: 82.64%\n"
     ]
    }
   ],
   "source": [
    "# Define file paths\n",
    "file1 = \"X_train.txt\"\n",
    "file2 = \"y_train.txt\"\n",
    "\n",
    "# Read both files line by line\n",
    "with open(file1, \"r\") as f1, open(file2, \"r\") as f2:\n",
    "    lines1 = f1.readlines()\n",
    "    lines2 = f2.readlines()\n",
    "\n",
    "# Ensure both files have the same number of lines\n",
    "if len(lines1) != len(lines2):\n",
    "    print(\"Files have different numbers of lines. Cannot compare accurately.\")\n",
    "else:\n",
    "    # Count matching lines\n",
    "    matches = sum(1 for x, y in zip(lines1, lines2) if x.strip() == y.strip())\n",
    "    total_lines = len(lines1)\n",
    "\n",
    "    # Calculate accuracy percentage\n",
    "    accuracy = (matches / total_lines) * 100\n",
    "    print(f\"Accuracy: {accuracy:.2f}%\")\n"
   ]
  },
  {
   "cell_type": "code",
   "execution_count": null,
   "id": "847ece24-6460-43c6-9ce0-b0d4dced32f3",
   "metadata": {},
   "outputs": [],
   "source": []
  }
 ],
 "metadata": {
  "kernelspec": {
   "display_name": "Python 3 (ipykernel)",
   "language": "python",
   "name": "python3"
  },
  "language_info": {
   "codemirror_mode": {
    "name": "ipython",
    "version": 3
   },
   "file_extension": ".py",
   "mimetype": "text/x-python",
   "name": "python",
   "nbconvert_exporter": "python",
   "pygments_lexer": "ipython3",
   "version": "3.13.1"
  }
 },
 "nbformat": 4,
 "nbformat_minor": 5
}
