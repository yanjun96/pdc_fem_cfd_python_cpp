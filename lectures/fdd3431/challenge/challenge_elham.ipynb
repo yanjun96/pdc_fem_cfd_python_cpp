{
 "cells": [
  {
   "cell_type": "code",
   "execution_count": 1,
   "id": "ed06daef-2a6a-4957-865c-48e5b61c394d",
   "metadata": {},
   "outputs": [],
   "source": [
    "import numpy as np\n",
    "import pandas as pd\n",
    "from labfuns import *\n"
   ]
  },
  {
   "cell_type": "code",
   "execution_count": 2,
   "id": "f3753f33-59f5-4ba1-88ab-10d7a3d4d680",
   "metadata": {
    "scrolled": true
   },
   "outputs": [],
   "source": [
    "#model_train = testClassifier(BayesClassifier(), dataset='challenge', split=0.7)"
   ]
  },
  {
   "cell_type": "code",
   "execution_count": 3,
   "id": "ef357d1b-52cc-40ce-afa8-d77a0b616a7b",
   "metadata": {},
   "outputs": [
    {
     "name": "stdout",
     "output_type": "stream",
     "text": [
      "Trial: 0 Accuracy 79.7\n",
      "Trial: 10 Accuracy 80\n",
      "Trial: 20 Accuracy 79.7\n",
      "Trial: 30 Accuracy 80.7\n",
      "Trial: 40 Accuracy 80.3\n",
      "Trial: 50 Accuracy 80.3\n",
      "Trial: 60 Accuracy 80.5\n",
      "Trial: 70 Accuracy 81.3\n",
      "Trial: 80 Accuracy 80.5\n",
      "Trial: 90 Accuracy 79.3\n",
      "Final mean classification accuracy  80 with standard deviation 0.95\n"
     ]
    }
   ],
   "source": [
    "model_train1 =testClassifier(DecisionTreeClassifier(), dataset='challenge', split=0.7)"
   ]
  },
  {
   "cell_type": "code",
   "execution_count": 4,
   "id": "3e4b35b1-08b9-4982-bb04-8449e642d8a7",
   "metadata": {},
   "outputs": [
    {
     "name": "stdout",
     "output_type": "stream",
     "text": [
      "Mapping: {'Boom!': np.int64(0), 'Q1': np.int64(1), 'Q2': np.int64(2), 'Q3': np.int64(3), 'Q4': np.int64(4)}\n"
     ]
    }
   ],
   "source": [
    "import pandas as pd\n",
    "import numpy as np\n",
    "from sklearn.preprocessing import LabelEncoder\n",
    "\n",
    "df = pd.read_csv('EvaluateOnMe-b118d678-c584-46d5-9be1-fe07f8d38bab.csv') \n",
    "X = df.drop(df.columns[[0,12]], axis=1)\n",
    "encoder = LabelEncoder()\n",
    "X.iloc[:, 6] = encoder.fit_transform(X.iloc[:, 6])\n",
    "#X.iloc[:, 11] = encoder.fit_transform(X.iloc[:, 11])\n",
    "X = X.values\n",
    "print(\"Mapping:\", dict(zip(encoder.classes_, encoder.transform(encoder.classes_))))\n",
    "\n",
    "pca = decomposition.PCA()\n",
    "pca.fit(X)\n",
    "X = pca.transform(X)\n",
    "\n",
    "labels = model_train1.classify(X)\n",
    "np.savetxt(\"Y_pre.txt\", labels, fmt=\"%s\") "
   ]
  },
  {
   "cell_type": "code",
   "execution_count": 5,
   "id": "05dd6f7a-fedc-41d4-92bd-b58c703efeb6",
   "metadata": {},
   "outputs": [
    {
     "name": "stdout",
     "output_type": "stream",
     "text": [
      "Mapping completed. Output saved to y.txt\n"
     ]
    }
   ],
   "source": [
    "import numpy as np\n",
    "\n",
    "# Define mapping\n",
    "mapping = {0: 'Antrophic', 1: 'Mistral', 2: 'OpenAI'}\n",
    "\n",
    "# Read input file\n",
    "input_file = \"Y_pre.txt\"  # Change this to your file name\n",
    "output_file = \"y.txt\"\n",
    "\n",
    "with open(input_file, \"r\") as f:\n",
    "    lines = f.readlines()\n",
    "\n",
    "# Map numbers to strings\n",
    "mapped_lines = [mapping.get(int(line.strip()), \"Unknown\") for line in lines]\n",
    "\n",
    "# Write to output file\n",
    "with open(output_file, \"w\") as f:\n",
    "    f.write(\"\\n\".join(mapped_lines))\n",
    "\n",
    "print(f\"Mapping completed. Output saved to {output_file}\")\n"
   ]
  },
  {
   "cell_type": "code",
   "execution_count": null,
   "id": "795884eb-3f9b-4491-847b-cf4d2c1c7e8a",
   "metadata": {},
   "outputs": [],
   "source": []
  }
 ],
 "metadata": {
  "kernelspec": {
   "display_name": "Python 3 (ipykernel)",
   "language": "python",
   "name": "python3"
  },
  "language_info": {
   "codemirror_mode": {
    "name": "ipython",
    "version": 3
   },
   "file_extension": ".py",
   "mimetype": "text/x-python",
   "name": "python",
   "nbconvert_exporter": "python",
   "pygments_lexer": "ipython3",
   "version": "3.13.1"
  }
 },
 "nbformat": 4,
 "nbformat_minor": 5
}
