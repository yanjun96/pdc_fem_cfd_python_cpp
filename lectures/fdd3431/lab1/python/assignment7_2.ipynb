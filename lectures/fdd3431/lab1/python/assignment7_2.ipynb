{
 "cells": [
  {
   "cell_type": "code",
   "execution_count": 1,
   "id": "c6372f1b-99ce-4120-9dee-6b8cacdac8c8",
   "metadata": {},
   "outputs": [],
   "source": [
    "import monkdata as m\n",
    "from dtree import *\n",
    "import dtree as d\n",
    "import numpy as np\n",
    "\n",
    "import random\n",
    "def partition(data, fraction):\n",
    "    ldata = list(data)\n",
    "    random.shuffle(ldata)\n",
    "    breakPoint = int(len(ldata) * fraction)\n",
    "    return ldata[:breakPoint], ldata[breakPoint:]\n"
   ]
  },
  {
   "cell_type": "code",
   "execution_count": 4,
   "id": "38c7ea70-209a-4fd6-ba67-cfcb047c73bc",
   "metadata": {},
   "outputs": [
    {
     "name": "stdout",
     "output_type": "stream",
     "text": [
      "The first correctness is  0.8\n",
      "Current value: 0.84\n",
      "Current value: 0.84\n",
      "Current value: 0.32\n",
      "Loop finished!\n"
     ]
    }
   ],
   "source": [
    "mean = []\n",
    "rate_tree = []\n",
    "\n",
    "monk1train, monk1val = partition(m.monk1, 0.8)\n",
    "t = d.buildTree(monk1train, m.attributes)\n",
    "\n",
    "m_prun = allPruned(t)\n",
    "\n",
    "for i in range( len(m_prun) ):\n",
    "   rate_tree.append(d.check(m_prun[i], monk1val))\n",
    "max_index = np.argmax(rate_tree)\n",
    "error_stand = m_prun[max_index]\n",
    "\n",
    "print('The first correctness is ', rate_tree[max_index])\n",
    "value_1 = rate_tree[max_index]\n",
    "value2 = 1\n",
    "# Start with a small value\n",
    "while value2 >= value_1 :\n",
    "    rate_tree = []\n",
    "    old_prun = m_prun\n",
    "    old_m_in = max_index\n",
    "    \n",
    "    m_prun = allPruned( m_prun[max_index] )\n",
    "    for i in range( len(m_prun) ):\n",
    "        rate_tree.append(d.check(m_prun[i], monk1val))\n",
    "        \n",
    "    max_index = np.argmax(rate_tree)\n",
    "    value2 = rate_tree[max_index]\n",
    "    \n",
    "    print(f\"Current value: {value2}\")\n",
    "\n",
    "print(\"Loop finished!\")\n",
    "\n"
   ]
  },
  {
   "cell_type": "code",
   "execution_count": 5,
   "id": "e125f2c1-7b7a-47e9-934b-d877914ca74e",
   "metadata": {},
   "outputs": [
    {
     "data": {
      "text/plain": [
       "0.84"
      ]
     },
     "execution_count": 5,
     "metadata": {},
     "output_type": "execute_result"
    }
   ],
   "source": [
    "d.check(old_prun[old_m_in], monk1val)\n"
   ]
  },
  {
   "cell_type": "code",
   "execution_count": 4,
   "id": "476adcbe-9720-47ef-9cca-7b1e507077eb",
   "metadata": {},
   "outputs": [
    {
     "name": "stderr",
     "output_type": "stream",
     "text": [
      "2025-02-05 17:12:21.008 python[7237:937237] +[IMKClient subclass]: chose IMKClient_Modern\n"
     ]
    },
    {
     "ename": "SystemExit",
     "evalue": "0",
     "output_type": "error",
     "traceback": [
      "An exception has occurred, use %tb to see the full traceback.\n",
      "\u001b[0;31mSystemExit\u001b[0m\u001b[0;31m:\u001b[0m 0\n"
     ]
    },
    {
     "name": "stderr",
     "output_type": "stream",
     "text": [
      "/Users/yanjun/Documents/apps/miniconda3/envs/dd2421/lib/python3.13/site-packages/IPython/core/interactiveshell.py:3585: UserWarning: To exit: use 'exit', 'quit', or Ctrl-D.\n",
      "  warn(\"To exit: use 'exit', 'quit', or Ctrl-D.\", stacklevel=1)\n"
     ]
    }
   ],
   "source": [
    "from drawtree_qt5 import *\n",
    "#drawTree(t)\n",
    "drawTree(old_prun[old_m_in])"
   ]
  },
  {
   "cell_type": "code",
   "execution_count": null,
   "id": "1bdaac9a-2089-42f9-bb7d-baab414f7261",
   "metadata": {},
   "outputs": [],
   "source": []
  },
  {
   "cell_type": "code",
   "execution_count": null,
   "id": "088c7a81-7b2b-4fdf-8d6e-3e649704901f",
   "metadata": {},
   "outputs": [],
   "source": []
  },
  {
   "cell_type": "code",
   "execution_count": null,
   "id": "0250eabb-7a49-4fb8-b9f7-1e0432a0b570",
   "metadata": {},
   "outputs": [],
   "source": []
  },
  {
   "cell_type": "code",
   "execution_count": 70,
   "id": "73c92480-1e63-4615-8ecd-fccd84652326",
   "metadata": {},
   "outputs": [
    {
     "name": "stdout",
     "output_type": "stream",
     "text": [
      "[0.70949425 0.74544    0.78177419 0.8064     0.81194737 0.80248   ]\n"
     ]
    }
   ],
   "source": [
    "rate_mean = [0,0,0,0,0,0]\n",
    "num_iterations = 500\n",
    "rate_all = []\n",
    "for k in range(num_iterations):\n",
    "   for j in [0.3, 0.4, 0.5, 0.6, 0.7, 0.8]:\n",
    "      mean = []\n",
    "      rate_tree = []\n",
    "      \n",
    "\n",
    "      monk1train, monk1val = partition(m.monk1, j)\n",
    "      t = d.buildTree(monk1train, m.attributes)\n",
    "\n",
    "      m_prun = allPruned(t)\n",
    "\n",
    "      for i in range( len(m_prun) ):\n",
    "         rate_tree.append(d.check(m_prun[i], monk1val))\n",
    "      max_index = np.argmax(rate_tree)\n",
    "      error_stand = m_prun[max_index]\n",
    "\n",
    "      #print('The first correctness is ', rate_tree[max_index])\n",
    "      value_1 = rate_tree[max_index]\n",
    "      value2 = 1\n",
    "      # Start with a small value\n",
    "       \n",
    "      while value2 >= value_1 :\n",
    "          rate_tree1 = []\n",
    "          old_prun = m_prun\n",
    "          old_m_in = max_index\n",
    "    \n",
    "          m_prun = allPruned( m_prun[max_index] )\n",
    "          for i in range( len(m_prun) ):\n",
    "              rate_tree1.append(d.check(m_prun[i], monk1val))\n",
    "        \n",
    "          max_index = np.argmax(rate_tree1)\n",
    "          value2 = rate_tree1[max_index]\n",
    "    \n",
    "          #print(f\"Current value: {value2}\")\n",
    "      rate_all.append(value2)\n",
    "\n",
    "   \n",
    "   rate_mean =np.add(rate_mean, rate_all) \n",
    "   \n",
    "   rate_all = []\n",
    " \n",
    "\n",
    "\n",
    "rate_mean = rate_mean/num_iterations\n",
    "print(rate_mean)\n",
    "\n",
    "error = [ 1-i for i in rate_mean]\n"
   ]
  },
  {
   "cell_type": "code",
   "execution_count": 72,
   "id": "f32c5924-77f0-4fdf-a845-e5361e34f79c",
   "metadata": {},
   "outputs": [
    {
     "data": {
      "image/png": "[encoded data removed]",
      "text/plain": [
       "<Figure size 640x480 with 1 Axes>"
      ]
     },
     "metadata": {},
     "output_type": "display_data"
    }
   ],
   "source": [
    "import matplotlib.pyplot as plt\n",
    "\n",
    "# Sample data\n",
    "\n",
    "x = ['0.3','0.4','0.5','0.6','0.7','0.8']\n",
    "y1 = error\n",
    "\n",
    "# Create a plot\n",
    "plt.plot(x, y1)\n",
    "\n",
    "for i, v in enumerate(y1):\n",
    "    plt.text(i, v , f\"{v:.1f}%\", ha='center', fontsize=10, fontweight='bold')\n",
    "\n",
    "# Labels and title\\\n",
    "plt.xlabel(\"partition\")\n",
    "plt.ylabel(\"error\")\n",
    "plt.title(\"error for monk-1\")\n",
    "plt.tight_layout()\n",
    "# Show the plot\n",
    "\n",
    "#plt.savefig('variance_monk3.png')\n",
    "\n",
    "plt.show()"
   ]
  },
  {
   "cell_type": "code",
   "execution_count": null,
   "id": "a9b84b32-41bc-4ff6-ab2f-1addd2af5980",
   "metadata": {},
   "outputs": [],
   "source": []
  },
  {
   "cell_type": "code",
   "execution_count": null,
   "id": "bce2fd5a-9ef0-4eb0-9dd1-705335ab0a0d",
   "metadata": {},
   "outputs": [],
   "source": []
  }
 ],
 "metadata": {
  "kernelspec": {
   "display_name": "Python 3 (ipykernel)",
   "language": "python",
   "name": "python3"
  },
  "language_info": {
   "codemirror_mode": {
    "name": "ipython",
    "version": 3
   },
   "file_extension": ".py",
   "mimetype": "text/x-python",
   "name": "python",
   "nbconvert_exporter": "python",
   "pygments_lexer": "ipython3",
   "version": "3.13.1"
  }
 },
 "nbformat": 4,
 "nbformat_minor": 5
}
