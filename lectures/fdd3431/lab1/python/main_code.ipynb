{
 "cells": [
  {
   "cell_type": "code",
   "execution_count": 10,
   "id": "fdcce6de-7697-4572-a9ea-e6e039bcb6dd",
   "metadata": {},
   "outputs": [],
   "source": [
    "import monkdata as m\n",
    "from dtree import *"
   ]
  },
  {
   "cell_type": "markdown",
   "id": "6be644e0-ef7b-4c14-9113-c1f5014433e1",
   "metadata": {},
   "source": [
    "# Assignment 1"
   ]
  },
  {
   "cell_type": "code",
   "execution_count": null,
   "id": "aea91ed8-1457-4255-bf26-5370b0469c5a",
   "metadata": {},
   "outputs": [],
   "source": [
    "e1 = entropy(m.monk1)\n",
    "print(e1)"
   ]
  },
  {
   "cell_type": "code",
   "execution_count": null,
   "id": "1ad1f301-1240-430d-b599-2b328365250e",
   "metadata": {},
   "outputs": [],
   "source": [
    "e2 = entropy(m.monk2)\n",
    "print(e2)\n",
    "print(len(m.monk1))"
   ]
  },
  {
   "cell_type": "code",
   "execution_count": null,
   "id": "ec560563-249a-46ec-abb2-f802d5a499ff",
   "metadata": {},
   "outputs": [],
   "source": [
    "e3 = entropy(m.monk3)\n",
    "print(e3)"
   ]
  },
  {
   "cell_type": "markdown",
   "id": "d31cf31b-7cd6-45b1-97ef-f203b673fe86",
   "metadata": {},
   "source": [
    "# Assignment 2\n",
    "e4 is for uniform\n",
    "e5 is for non-uniform"
   ]
  },
  {
   "cell_type": "code",
   "execution_count": null,
   "id": "11f19804-5c59-40fd-bc78-68bac4cfab62",
   "metadata": {},
   "outputs": [],
   "source": [
    "import numpy as np\n",
    "import math"
   ]
  },
  {
   "cell_type": "code",
   "execution_count": null,
   "id": "ccbf07c8-3993-4e44-9705-4f1c4d5ed298",
   "metadata": {},
   "outputs": [],
   "source": [
    "e4 = -(5/10)* math.log2(5/10) - (5/10)* math.log2(5/10)\n",
    "print(e4)\n",
    "e5 = -(9/10)* math.log2(9/10) - (1/10)* math.log2(1/10)\n",
    "print(e5)\n"
   ]
  },
  {
   "cell_type": "markdown",
   "id": "30ff2afd-9756-4c1d-b120-1a035d267b11",
   "metadata": {},
   "source": [
    "# Assignment 3\n"
   ]
  },
  {
   "cell_type": "code",
   "execution_count": null,
   "id": "d0712088-8ac9-4657-88f4-9d2ad72e8db8",
   "metadata": {},
   "outputs": [],
   "source": [
    "for j in range(3):\n",
    "   name = 'monk'+str(j+1)\n",
    "   monk_class = getattr(m,name) \n",
    "   for i in range(6):\n",
    "     print(averageGain(monk_class, m.attributes[i]))\n",
    "     if i == 5:\n",
    "         print(\"new monk\")"
   ]
  },
  {
   "cell_type": "markdown",
   "id": "d88ad87c-65ab-48de-a45f-b7e870fb84e5",
   "metadata": {},
   "source": [
    "# Assignmentt 5"
   ]
  },
  {
   "cell_type": "code",
   "execution_count": 13,
   "id": "a0ef9089-9302-4dc7-9291-f1f4e14b1cb5",
   "metadata": {},
   "outputs": [
    {
     "name": "stdout",
     "output_type": "stream",
     "text": [
      "True\n"
     ]
    }
   ],
   "source": [
    "new_monk1 = select(m.monk1, m.attributes[4],1)\n",
    "num_new_monk1 = allPositive(new_monk1)\n",
    "print(num_new_monk1)"
   ]
  },
  {
   "cell_type": "code",
   "execution_count": 14,
   "id": "aff1b458-3e7b-4323-8437-6d703b8e7de4",
   "metadata": {},
   "outputs": [],
   "source": [
    "new_monk1 = select(m.monk1, m.attributes[4],1)\n",
    "monk1_neg = tuple(set(m.monk1) - set(new_monk1))"
   ]
  },
  {
   "cell_type": "code",
   "execution_count": 15,
   "id": "1f36ca98-4480-4c42-a630-4a016bf4a839",
   "metadata": {},
   "outputs": [
    {
     "name": "stdout",
     "output_type": "stream",
     "text": [
      "0.05830506026240112\n",
      "0.005159452083591476\n",
      "0.0024837513000560696\n",
      "0.04241942200317339\n",
      "0.0010833534040218806\n",
      "0.0011615153088733177\n"
     ]
    }
   ],
   "source": [
    "for i in range(6):\n",
    "     print(averageGain(monk1_neg, m.attributes[i]))"
   ]
  },
  {
   "cell_type": "code",
   "execution_count": null,
   "id": "b14fff83-cef4-4ba9-ae8b-828d9acec2cd",
   "metadata": {},
   "outputs": [],
   "source": [
    "new_monk2 = select(monk1_neg, m.attributes[0], 3)\n",
    "new_dataset = mostCommon(new_monk2)\n",
    "print(new_dataset)"
   ]
  },
  {
   "cell_type": "code",
   "execution_count": 8,
   "id": "1fa1da02-cf71-4efa-a798-abfce1f7aaac",
   "metadata": {},
   "outputs": [
    {
     "name": "stdout",
     "output_type": "stream",
     "text": [
      "0.8055555555555556\n"
     ]
    }
   ],
   "source": [
    "import dtree as d\n",
    "a =  d.buildTree(m.monk3, m.attributes, maxdepth=2)\n",
    "print(d.check(a,m.monk3test))"
   ]
  },
  {
   "cell_type": "code",
   "execution_count": 18,
   "id": "774213ef-887b-4367-9561-fa1cc57944ed",
   "metadata": {},
   "outputs": [
    {
     "name": "stdout",
     "output_type": "stream",
     "text": [
      "0.7222222222222222\n"
     ]
    }
   ],
   "source": [
    "import monkdata as m\n",
    "import dtree as d\n",
    "t = d.buildTree(m.monk1, m.attributes, maxdepth=2)\n",
    "print(d.check(t, m.monk1test))"
   ]
  },
  {
   "cell_type": "code",
   "execution_count": null,
   "id": "2c50ed7f-eb3f-4876-a711-9fd9c777c5ab",
   "metadata": {},
   "outputs": [],
   "source": [
    "from drawtree_qt5 import *\n",
    "drawTree(t)"
   ]
  },
  {
   "cell_type": "code",
   "execution_count": null,
   "id": "ee84348a-f82a-4017-890a-afd20b8a67a9",
   "metadata": {},
   "outputs": [],
   "source": []
  }
 ],
 "metadata": {
  "kernelspec": {
   "display_name": "Python 3 (ipykernel)",
   "language": "python",
   "name": "python3"
  },
  "language_info": {
   "codemirror_mode": {
    "name": "ipython",
    "version": 3
   },
   "file_extension": ".py",
   "mimetype": "text/x-python",
   "name": "python",
   "nbconvert_exporter": "python",
   "pygments_lexer": "ipython3",
   "version": "3.12.8"
  }
 },
 "nbformat": 4,
 "nbformat_minor": 5
}
