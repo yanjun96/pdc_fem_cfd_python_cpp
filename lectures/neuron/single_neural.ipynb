{
 "cells": [
  {
   "cell_type": "code",
   "execution_count": 7,
   "id": "7f9f740f-bbf9-4992-90c8-83f1f93f0dfd",
   "metadata": {},
   "outputs": [],
   "source": [
    "inputs = [1, 2, 3, 2.5]\n",
    "\n",
    "weights1 = [0.2, 0.8, -0.5, 1]\n",
    "weights2 = [0.5, -0.91, 0.26, -0.5]\n",
    "weights3 = [-0.26, -0.27, 0.17, 0.87]\n",
    "\n",
    "bias1 = 2\n",
    "bias2 = 3\n",
    "bias3 = 0.5"
   ]
  },
  {
   "cell_type": "code",
   "execution_count": 8,
   "id": "ced8e0c6-f973-4a59-8bcf-f69ac4036312",
   "metadata": {},
   "outputs": [
    {
     "name": "stdout",
     "output_type": "stream",
     "text": [
      "[4.8, 1.21, 2.385]\n"
     ]
    }
   ],
   "source": [
    "output = [inputs[0]*weights1[0]+\n",
    "          inputs[1]*weights1[1]+\n",
    "          inputs[2]*weights1[2]+\n",
    "          inputs[3]*weights1[3]+bias1,\n",
    "\n",
    "          inputs[0]*weights2[0]+\n",
    "          inputs[1]*weights2[1]+\n",
    "          inputs[2]*weights2[2]+\n",
    "          inputs[3]*weights2[3]+bias2,\n",
    "\n",
    "          inputs[0]*weights3[0]+\n",
    "          inputs[1]*weights3[1]+\n",
    "          inputs[2]*weights3[2]+\n",
    "          inputs[3]*weights3[3]+bias3\n",
    "         ]\n",
    "print(output)"
   ]
  },
  {
   "cell_type": "code",
   "execution_count": null,
   "id": "f787cca2-25c8-4a11-b670-072f79b7ada8",
   "metadata": {},
   "outputs": [],
   "source": []
  },
  {
   "cell_type": "code",
   "execution_count": null,
   "id": "9fdc136d-acaf-43ca-8330-d403409ed6b4",
   "metadata": {},
   "outputs": [],
   "source": []
  },
  {
   "cell_type": "code",
   "execution_count": 9,
   "id": "bf349c2b-cdbb-45cc-a57b-a1f4e18e9ce5",
   "metadata": {},
   "outputs": [
    {
     "name": "stdout",
     "output_type": "stream",
     "text": [
      "[4.8, 1.21, 2.385]\n"
     ]
    }
   ],
   "source": [
    "inputs = [1, 2, 3, 2.5]\n",
    "\n",
    "weights = [ [0.2, 0.8, -0.5, 1],\n",
    "            [0.5, -0.91, 0.26, -0.5],\n",
    "            [-0.26, -0.27, 0.17, 0.87] ]\n",
    "\n",
    "biases = [2, 3, 0.5]\n",
    "\n",
    "layer_outputs = []\n",
    "\n",
    "for n_weight, n_bias in zip(weights, biases):\n",
    "    neuron_out = 0\n",
    "    for n_input, weight in zip(inputs, n_weight):\n",
    "        neuron_out += n_input*weight\n",
    "    neuron_out += n_bias\n",
    "    layer_outputs.append(neuron_out)\n",
    "\n",
    "print(layer_outputs)"
   ]
  },
  {
   "cell_type": "code",
   "execution_count": null,
   "id": "ef9ae234-bd40-4a89-b875-c5bce401bd19",
   "metadata": {},
   "outputs": [],
   "source": []
  }
 ],
 "metadata": {
  "kernelspec": {
   "display_name": "Python 3 (ipykernel)",
   "language": "python",
   "name": "python3"
  },
  "language_info": {
   "codemirror_mode": {
    "name": "ipython",
    "version": 3
   },
   "file_extension": ".py",
   "mimetype": "text/x-python",
   "name": "python",
   "nbconvert_exporter": "python",
   "pygments_lexer": "ipython3",
   "version": "3.12.8"
  }
 },
 "nbformat": 4,
 "nbformat_minor": 5
}
